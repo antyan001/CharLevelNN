{
 "cells": [
  {
   "cell_type": "code",
   "execution_count": 1,
   "metadata": {},
   "outputs": [],
   "source": [
    "import os\n",
    "from pathlib import Path\n",
    "import pandas as pd\n",
    "import numpy as np\n",
    "from tqdm import tqdm\n",
    "import utils"
   ]
  },
  {
   "cell_type": "code",
   "execution_count": 2,
   "metadata": {},
   "outputs": [],
   "source": [
    "os.chdir('./..')"
   ]
  },
  {
   "cell_type": "code",
   "execution_count": 3,
   "metadata": {},
   "outputs": [],
   "source": [
    "path2train_pos = Path.joinpath(Path(os.getcwd()), 'data', 'acllmdb', 'train', 'pos')\n",
    "path2train_neg = Path.joinpath(Path(os.getcwd()), 'data', 'acllmdb', 'train', 'neg')\n",
    "path2test_pos  = Path.joinpath(Path(os.getcwd()), 'data', 'acllmdb', 'test', 'pos')\n",
    "path2test_neg  = Path.joinpath(Path(os.getcwd()), 'data', 'acllmdb', 'test', 'neg')\n",
    "\n",
    "paths = [(path2train_pos,1), (path2train_neg,0), (path2test_pos,1), (path2test_neg,0)]"
   ]
  },
  {
   "cell_type": "code",
   "execution_count": 4,
   "metadata": {},
   "outputs": [
    {
     "name": "stderr",
     "output_type": "stream",
     "text": [
      "\r",
      "  0%|                                                                                            | 0/4 [00:00<?, ?it/s]"
     ]
    },
    {
     "name": "stdout",
     "output_type": "stream",
     "text": [
      "C:\\Users\\anthony\\Documents\\Python Scripts\\character-based-cnn\\data\\acllmdb\\train\\pos\n"
     ]
    },
    {
     "name": "stderr",
     "output_type": "stream",
     "text": [
      "\r",
      " 25%|█████████████████████                                                               | 1/4 [00:03<00:10,  3.55s/it]"
     ]
    },
    {
     "name": "stdout",
     "output_type": "stream",
     "text": [
      "C:\\Users\\anthony\\Documents\\Python Scripts\\character-based-cnn\\data\\acllmdb\\train\\neg\n"
     ]
    },
    {
     "name": "stderr",
     "output_type": "stream",
     "text": [
      "\r",
      " 50%|██████████████████████████████████████████                                          | 2/4 [00:06<00:06,  3.46s/it]"
     ]
    },
    {
     "name": "stdout",
     "output_type": "stream",
     "text": [
      "C:\\Users\\anthony\\Documents\\Python Scripts\\character-based-cnn\\data\\acllmdb\\test\\pos\n"
     ]
    },
    {
     "name": "stderr",
     "output_type": "stream",
     "text": [
      "\r",
      " 75%|███████████████████████████████████████████████████████████████                     | 3/4 [00:09<00:03,  3.35s/it]"
     ]
    },
    {
     "name": "stdout",
     "output_type": "stream",
     "text": [
      "C:\\Users\\anthony\\Documents\\Python Scripts\\character-based-cnn\\data\\acllmdb\\test\\neg\n"
     ]
    },
    {
     "name": "stderr",
     "output_type": "stream",
     "text": [
      "100%|████████████████████████████████████████████████████████████████████████████████████| 4/4 [00:13<00:00,  3.38s/it]\n"
     ]
    }
   ],
   "source": [
    "corpora=[]\n",
    "for _path,label in tqdm(paths):\n",
    "    print(_path)\n",
    "    for filename in os.listdir(_path):\n",
    "        with open(Path.joinpath(_path,filename), 'rt', encoding='utf-8') as f:\n",
    "            review = f.read()\n",
    "            f.close()\n",
    "        corpora.append((review,label)) "
   ]
  },
  {
   "cell_type": "code",
   "execution_count": 5,
   "metadata": {},
   "outputs": [
    {
     "data": {
      "text/plain": [
       "50000"
      ]
     },
     "execution_count": 5,
     "metadata": {},
     "output_type": "execute_result"
    }
   ],
   "source": [
    "len(corpora)"
   ]
  },
  {
   "cell_type": "code",
   "execution_count": 5,
   "metadata": {},
   "outputs": [],
   "source": [
    "dictionary=dict(corpora)"
   ]
  },
  {
   "cell_type": "code",
   "execution_count": 7,
   "metadata": {},
   "outputs": [
    {
     "data": {
      "text/plain": [
       "49582"
      ]
     },
     "execution_count": 7,
     "metadata": {},
     "output_type": "execute_result"
    }
   ],
   "source": [
    "len(dictionary)"
   ]
  },
  {
   "cell_type": "code",
   "execution_count": 6,
   "metadata": {
    "scrolled": true
   },
   "outputs": [],
   "source": [
    "df = pd.DataFrame({'SentimentText':list(dictionary.keys()),'Sentiment':list(dictionary.values())})"
   ]
  },
  {
   "cell_type": "code",
   "execution_count": 7,
   "metadata": {},
   "outputs": [],
   "source": [
    "df.sort_values(by='Sentiment', ascending=True, inplace=True)"
   ]
  },
  {
   "cell_type": "code",
   "execution_count": 10,
   "metadata": {
    "scrolled": true
   },
   "outputs": [
    {
     "data": {
      "text/html": [
       "<div>\n",
       "<style scoped>\n",
       "    .dataframe tbody tr th:only-of-type {\n",
       "        vertical-align: middle;\n",
       "    }\n",
       "\n",
       "    .dataframe tbody tr th {\n",
       "        vertical-align: top;\n",
       "    }\n",
       "\n",
       "    .dataframe thead th {\n",
       "        text-align: right;\n",
       "    }\n",
       "</style>\n",
       "<table border=\"1\" class=\"dataframe\">\n",
       "  <thead>\n",
       "    <tr style=\"text-align: right;\">\n",
       "      <th></th>\n",
       "      <th>SentimentText</th>\n",
       "      <th>Sentiment</th>\n",
       "    </tr>\n",
       "  </thead>\n",
       "  <tbody>\n",
       "    <tr>\n",
       "      <th>24790</th>\n",
       "      <td>Okay so i found out about this movie and I wat...</td>\n",
       "      <td>0</td>\n",
       "    </tr>\n",
       "    <tr>\n",
       "      <th>24776</th>\n",
       "      <td>Cassavetes was clearly an intelligent, sensiti...</td>\n",
       "      <td>0</td>\n",
       "    </tr>\n",
       "    <tr>\n",
       "      <th>24777</th>\n",
       "      <td>From actor and independent writer/director Joh...</td>\n",
       "      <td>0</td>\n",
       "    </tr>\n",
       "    <tr>\n",
       "      <th>24778</th>\n",
       "      <td>In A Woman Under the Influence Mabel goes craz...</td>\n",
       "      <td>0</td>\n",
       "    </tr>\n",
       "    <tr>\n",
       "      <th>24779</th>\n",
       "      <td>This movie offers NOTHING to anyone. It doesn'...</td>\n",
       "      <td>0</td>\n",
       "    </tr>\n",
       "    <tr>\n",
       "      <th>24780</th>\n",
       "      <td>Another rape of History&lt;br /&gt;&lt;br /&gt;This movie ...</td>\n",
       "      <td>0</td>\n",
       "    </tr>\n",
       "    <tr>\n",
       "      <th>24781</th>\n",
       "      <td>I think the biggest disappointment in this fil...</td>\n",
       "      <td>0</td>\n",
       "    </tr>\n",
       "    <tr>\n",
       "      <th>24775</th>\n",
       "      <td>This is Peter Falk's film. Period.&lt;br /&gt;&lt;br /&gt;...</td>\n",
       "      <td>0</td>\n",
       "    </tr>\n",
       "    <tr>\n",
       "      <th>24782</th>\n",
       "      <td>Why is it that any film about Cleopatra, the l...</td>\n",
       "      <td>0</td>\n",
       "    </tr>\n",
       "    <tr>\n",
       "      <th>24784</th>\n",
       "      <td>I missed the beginning of this film, which mig...</td>\n",
       "      <td>0</td>\n",
       "    </tr>\n",
       "    <tr>\n",
       "      <th>24785</th>\n",
       "      <td>If this book remained faithful to the book the...</td>\n",
       "      <td>0</td>\n",
       "    </tr>\n",
       "    <tr>\n",
       "      <th>24786</th>\n",
       "      <td>The DVD version consists of 2 episodes, the pa...</td>\n",
       "      <td>0</td>\n",
       "    </tr>\n",
       "    <tr>\n",
       "      <th>24787</th>\n",
       "      <td>I found this a good movie to pass your time, b...</td>\n",
       "      <td>0</td>\n",
       "    </tr>\n",
       "    <tr>\n",
       "      <th>24788</th>\n",
       "      <td>This version of \"Moby Dick\" insults the audien...</td>\n",
       "      <td>0</td>\n",
       "    </tr>\n",
       "    <tr>\n",
       "      <th>24789</th>\n",
       "      <td>Necessarily ridiculous film version the litera...</td>\n",
       "      <td>0</td>\n",
       "    </tr>\n",
       "  </tbody>\n",
       "</table>\n",
       "</div>"
      ],
      "text/plain": [
       "                                           SentimentText  Sentiment\n",
       "24790  Okay so i found out about this movie and I wat...          0\n",
       "24776  Cassavetes was clearly an intelligent, sensiti...          0\n",
       "24777  From actor and independent writer/director Joh...          0\n",
       "24778  In A Woman Under the Influence Mabel goes craz...          0\n",
       "24779  This movie offers NOTHING to anyone. It doesn'...          0\n",
       "24780  Another rape of History<br /><br />This movie ...          0\n",
       "24781  I think the biggest disappointment in this fil...          0\n",
       "24775  This is Peter Falk's film. Period.<br /><br />...          0\n",
       "24782  Why is it that any film about Cleopatra, the l...          0\n",
       "24784  I missed the beginning of this film, which mig...          0\n",
       "24785  If this book remained faithful to the book the...          0\n",
       "24786  The DVD version consists of 2 episodes, the pa...          0\n",
       "24787  I found this a good movie to pass your time, b...          0\n",
       "24788  This version of \"Moby Dick\" insults the audien...          0\n",
       "24789  Necessarily ridiculous film version the litera...          0"
      ]
     },
     "execution_count": 10,
     "metadata": {},
     "output_type": "execute_result"
    }
   ],
   "source": [
    "df.head(15)"
   ]
  },
  {
   "cell_type": "code",
   "execution_count": 51,
   "metadata": {},
   "outputs": [],
   "source": [
    "csvpath = Path.joinpath(Path(os.getcwd()), 'data', 'acllmdb', 'fulldb.csv')\n",
    "df.to_csv(csvpath, index=False, encoding='utf-8')"
   ]
  },
  {
   "cell_type": "code",
   "execution_count": 8,
   "metadata": {},
   "outputs": [],
   "source": [
    "preprocessing=['remove_hashtags','remove_urls','remove_user_mentions','remove_html','remove_punctuation',]"
   ]
  },
  {
   "cell_type": "code",
   "execution_count": 9,
   "metadata": {},
   "outputs": [
    {
     "data": {
      "text/plain": [
       "'An absolute classic !! The direction is flawless , the acting is just superb. Words fall short for this great work. The most definitive movie on Mumbai Police. This movie has stood the test of times.<br /><br />Om Puri gives a stellar performance, Smita Patil no less. All the actors have done their best and the movie races on thrilling you at every moment. This movie shakes your whole being badly and forces you to rethink about many issues that confront our society.<br /><br />This is the story of a cop (Om Puri ) who starts out in his career as a honest man but ultimately degenerates into a killer. The first attempt in Bollywood to get behind the scenes and expose the depressing truth about Mumbai cops. Kudos to Nihalani !! <br /><br />After this movie a slew of Bollywood movies got released that exposed the criminal-politician-police nexus. Thus this movie was truly a trend setter. This trend dominated the Hindi movie scene for more than a decade. <br /><br />This movie was a moderate box office hit. <br /><br />A must-see for discerning movie fans.'"
      ]
     },
     "execution_count": 9,
     "metadata": {},
     "output_type": "execute_result"
    }
   ],
   "source": [
    "df.SentimentText[120]"
   ]
  },
  {
   "cell_type": "code",
   "execution_count": 10,
   "metadata": {},
   "outputs": [
    {
     "data": {
      "text/plain": [
       "'An absolute classic  The direction is flawless  the acting is just superb Words fall short for this great work The most definitive movie on Mumbai Police This movie has stood the test of times  Om Puri gives a stellar performance Smita Patil no less All the actors have done their best and the movie races on thrilling you at every moment This movie shakes your whole being badly and forces you to rethink about many issues that confront our society  This is the story of a cop Om Puri  who starts out in his career as a honest man but ultimately degenerates into a killer The first attempt in Bollywood to get behind the scenes and expose the depressing truth about Mumbai cops Kudos to Nihalani    After this movie a slew of Bollywood movies got released that exposed the criminalpoliticianpolice nexus Thus this movie was truly a trend setter This trend dominated the Hindi movie scene for more than a decade   This movie was a moderate box office hit   A mustsee for discerning movie fans'"
      ]
     },
     "execution_count": 10,
     "metadata": {},
     "output_type": "execute_result"
    }
   ],
   "source": [
    "utils.normalize_text(preprocessing,df.SentimentText[120])"
   ]
  },
  {
   "cell_type": "code",
   "execution_count": null,
   "metadata": {},
   "outputs": [],
   "source": []
  }
 ],
 "metadata": {
  "kernelspec": {
   "display_name": "Python 3",
   "language": "python",
   "name": "python3"
  },
  "language_info": {
   "codemirror_mode": {
    "name": "ipython",
    "version": 3
   },
   "file_extension": ".py",
   "mimetype": "text/x-python",
   "name": "python",
   "nbconvert_exporter": "python",
   "pygments_lexer": "ipython3",
   "version": "3.6.8"
  }
 },
 "nbformat": 4,
 "nbformat_minor": 2
}
