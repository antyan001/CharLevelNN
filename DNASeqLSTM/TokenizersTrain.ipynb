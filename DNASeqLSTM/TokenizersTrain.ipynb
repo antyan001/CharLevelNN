{
 "cells": [
  {
   "cell_type": "code",
   "execution_count": 2,
   "metadata": {
    "collapsed": true
   },
   "outputs": [],
   "source": [
    "%reload_ext autoreload\n",
    "%autoreload 2"
   ]
  },
  {
   "cell_type": "code",
   "execution_count": 9,
   "metadata": {},
   "outputs": [],
   "source": [
    "import os\n",
    "import sys\n",
    "\n",
    "curruser = os.environ.get('USER')\n",
    "sys.path.insert(0, './src/')\n",
    "# sys.path.insert(0, '/home/{}/notebooks/support_library/'.format(curruser)) \n",
    "sys.path.insert(0, '/home/{}/python36-libs/lib/python3.6/site-packages/'.format(curruser))\n",
    "from pathlib import Path\n",
    "import re\n",
    "import itertools\n",
    "import pandas as pd\n",
    "import numpy as np\n",
    "from tqdm import tqdm_notebook\n",
    "# import utils\n",
    "from LSTMPreProc import preprocIO\n",
    "from Bio import SeqIO\n",
    "\n",
    "# from bpe import Encoder\n",
    "from sklearn.preprocessing import LabelEncoder\n",
    "import sentencepiece as spm\n",
    "# from tokenizers import CharBPETokenizer, ByteLevelBPETokenizer, SentencePieceBPETokenizer"
   ]
  },
  {
   "cell_type": "code",
   "execution_count": 3,
   "metadata": {
    "scrolled": true
   },
   "outputs": [
    {
     "data": {
      "application/vnd.jupyter.widget-view+json": {
       "model_id": "273bd04c4b2b481696112e2d3095708d",
       "version_major": 2,
       "version_minor": 0
      },
      "text/plain": [
       "HBox(children=(IntProgress(value=1, bar_style='info', max=1), HTML(value='')))"
      ]
     },
     "metadata": {},
     "output_type": "display_data"
    },
    {
     "name": "stdout",
     "output_type": "stream",
     "text": [
      "\n"
     ]
    }
   ],
   "source": [
    "dnaSegPath = ('./data/dnaseg/mart_export.txt')\n",
    "prep = preprocIO()\n",
    "seqArr = []\n",
    "for seq in tqdm_notebook(prep.streamFastaIO(dnaSegPath)):\n",
    "     seqArr+=[seq]"
   ]
  },
  {
   "cell_type": "code",
   "execution_count": null,
   "metadata": {
    "collapsed": true
   },
   "outputs": [],
   "source": [
    "with open('./data/dnaseg/mart_export_proc.txt', 'w+') as fout:\n",
    "    fout.write('\\n'.join(seqArr))"
   ]
  },
  {
   "cell_type": "code",
   "execution_count": 27,
   "metadata": {
    "scrolled": true
   },
   "outputs": [
    {
     "data": {
      "application/vnd.jupyter.widget-view+json": {
       "model_id": "75d7ba765a62421e91513a866671fd4a",
       "version_major": 2,
       "version_minor": 0
      },
      "text/plain": [
       "HBox(children=(IntProgress(value=0, max=102020), HTML(value='')))"
      ]
     },
     "metadata": {},
     "output_type": "display_data"
    },
    {
     "name": "stdout",
     "output_type": "stream",
     "text": [
      "\n"
     ]
    }
   ],
   "source": [
    "seqArr = []\n",
    "with open('./data/dnaseg/mart_export_proc.txt', mode='r', newline='\\n') as fout:\n",
    "    lines = fout.readlines()\n",
    "    for line in tqdm_notebook(lines):\n",
    "        seqArr += [line.split('\\n')[0]]\n",
    "    fout.close()"
   ]
  },
  {
   "cell_type": "code",
   "execution_count": 6,
   "metadata": {
    "collapsed": true
   },
   "outputs": [],
   "source": [
    "_str = 'CTACCACCCTCCTCCTCGCATGCCACCTCCATTAGAGGTCGGGGTCGTGGTGGGGGGAGA'"
   ]
  },
  {
   "cell_type": "code",
   "execution_count": 30,
   "metadata": {
    "collapsed": true
   },
   "outputs": [],
   "source": [
    "bpe = Encoder(    \n",
    "    vocab_size=400,\n",
    "    pct_bpe=0.9,\n",
    "    word_tokenizer=None,\n",
    "    silent=True,\n",
    "    ngram_min=1,\n",
    "    ngram_max=10,)"
   ]
  },
  {
   "cell_type": "code",
   "execution_count": 31,
   "metadata": {
    "collapsed": true
   },
   "outputs": [],
   "source": [
    "bpe.fit(seqArr)"
   ]
  },
  {
   "cell_type": "code",
   "execution_count": 32,
   "metadata": {
    "collapsed": true
   },
   "outputs": [],
   "source": [
    "bpe.save(\"models/BPE/bpe.model\")"
   ]
  },
  {
   "cell_type": "code",
   "execution_count": 55,
   "metadata": {
    "collapsed": true
   },
   "outputs": [],
   "source": [
    "bpe = Encoder.load(\"models/BPE/bpe.model\")"
   ]
  },
  {
   "cell_type": "code",
   "execution_count": 56,
   "metadata": {},
   "outputs": [
    {
     "data": {
      "text/plain": [
       "400"
      ]
     },
     "execution_count": 56,
     "metadata": {},
     "output_type": "execute_result"
    }
   ],
   "source": [
    "bpe.vocab_size"
   ]
  },
  {
   "cell_type": "code",
   "execution_count": 53,
   "metadata": {
    "collapsed": true
   },
   "outputs": [],
   "source": [
    "bpe_dct = bpe.learn_bpe_vocab([_str])\n",
    "bpe_dct.pop('__sow')\n",
    "bpe_dct.pop('__eow')\n",
    "idxs = [v for k,v in bpe_dct.items()]"
   ]
  },
  {
   "cell_type": "code",
   "execution_count": 57,
   "metadata": {},
   "outputs": [
    {
     "data": {
      "text/plain": [
       "359"
      ]
     },
     "execution_count": 57,
     "metadata": {},
     "output_type": "execute_result"
    }
   ],
   "source": [
    "len(idxs)"
   ]
  },
  {
   "cell_type": "code",
   "execution_count": null,
   "metadata": {
    "collapsed": true
   },
   "outputs": [],
   "source": []
  },
  {
   "cell_type": "code",
   "execution_count": null,
   "metadata": {
    "scrolled": true
   },
   "outputs": [],
   "source": [
    "spt = SentencePieceBPETokenizer()"
   ]
  },
  {
   "cell_type": "code",
   "execution_count": 15,
   "metadata": {
    "collapsed": true
   },
   "outputs": [],
   "source": [
    "spt.train('data/dnaseg/mart_export_proc.txt', vocab_size = 300,)"
   ]
  },
  {
   "cell_type": "code",
   "execution_count": 16,
   "metadata": {
    "collapsed": true
   },
   "outputs": [],
   "source": [
    "enc = spt.encode_tokenized([_str])"
   ]
  },
  {
   "cell_type": "code",
   "execution_count": 17,
   "metadata": {},
   "outputs": [
    {
     "data": {
      "text/plain": [
       "['C',\n",
       " 'TACC',\n",
       " 'ACCC',\n",
       " 'TCC',\n",
       " 'TCCTC',\n",
       " 'GC',\n",
       " 'ATGCC',\n",
       " 'ACCTCC',\n",
       " 'ATT',\n",
       " 'AGAGG',\n",
       " 'TC',\n",
       " 'GGGG',\n",
       " 'TCG',\n",
       " 'TGG',\n",
       " 'TGGG',\n",
       " 'GGG',\n",
       " 'AG',\n",
       " 'A']"
      ]
     },
     "execution_count": 17,
     "metadata": {},
     "output_type": "execute_result"
    }
   ],
   "source": [
    "enc.tokens"
   ]
  },
  {
   "cell_type": "code",
   "execution_count": 3,
   "metadata": {
    "collapsed": true
   },
   "outputs": [],
   "source": [
    "byteBPE = ByteLevelBPETokenizer()"
   ]
  },
  {
   "cell_type": "code",
   "execution_count": 5,
   "metadata": {
    "collapsed": true
   },
   "outputs": [],
   "source": [
    "byteBPE.train('data/dnaseg/mart_export_proc.txt', vocab_size = 300,)"
   ]
  },
  {
   "cell_type": "code",
   "execution_count": 13,
   "metadata": {},
   "outputs": [
    {
     "data": {
      "text/plain": [
       "['models/BPE/bytebpe.model-vocab.json', 'models/BPE/bytebpe.model-merges.txt']"
      ]
     },
     "execution_count": 13,
     "metadata": {},
     "output_type": "execute_result"
    }
   ],
   "source": [
    "byteBPE.save(\"models/BPE\",\"bytebpe.model\")"
   ]
  },
  {
   "cell_type": "code",
   "execution_count": 9,
   "metadata": {
    "collapsed": true
   },
   "outputs": [],
   "source": [
    "enc = byteBPE.encode_tokenized([_str])"
   ]
  },
  {
   "cell_type": "code",
   "execution_count": 11,
   "metadata": {},
   "outputs": [
    {
     "data": {
      "text/plain": [
       "[34,\n",
       " 51,\n",
       " 266,\n",
       " 296,\n",
       " 267,\n",
       " 267,\n",
       " 260,\n",
       " 276,\n",
       " 272,\n",
       " 258,\n",
       " 266,\n",
       " 267,\n",
       " 278,\n",
       " 256,\n",
       " 269,\n",
       " 260,\n",
       " 262,\n",
       " 262,\n",
       " 260,\n",
       " 38,\n",
       " 264,\n",
       " 288,\n",
       " 262,\n",
       " 38,\n",
       " 256,\n",
       " 32]"
      ]
     },
     "execution_count": 11,
     "metadata": {},
     "output_type": "execute_result"
    }
   ],
   "source": [
    "enc.ids"
   ]
  },
  {
   "cell_type": "code",
   "execution_count": null,
   "metadata": {
    "collapsed": true
   },
   "outputs": [],
   "source": []
  },
  {
   "cell_type": "code",
   "execution_count": 15,
   "metadata": {},
   "outputs": [
    {
     "data": {
      "text/plain": [
       "True"
      ]
     },
     "execution_count": 15,
     "metadata": {},
     "output_type": "execute_result"
    }
   ],
   "source": [
    "spm.SentencePieceTrainer.Train('--input=data/dnaseg/mart_export_proc.txt --model_prefix=unigram --vocab_size=500 --model_type=unigram')\n"
   ]
  },
  {
   "cell_type": "code",
   "execution_count": 5,
   "metadata": {},
   "outputs": [
    {
     "data": {
      "text/plain": [
       "True"
      ]
     },
     "execution_count": 5,
     "metadata": {},
     "output_type": "execute_result"
    }
   ],
   "source": [
    "sp = spm.SentencePieceProcessor()\n",
    "sp.Load(\"models/BPE/sentpbpe.model\")"
   ]
  },
  {
   "cell_type": "code",
   "execution_count": 7,
   "metadata": {},
   "outputs": [
    {
     "data": {
      "text/plain": [
       "['▁',\n",
       " 'C',\n",
       " 'TACC',\n",
       " 'ACCC',\n",
       " 'TCC',\n",
       " 'TCCTC',\n",
       " 'GC',\n",
       " 'ATGCC',\n",
       " 'ACC',\n",
       " 'TCC',\n",
       " 'ATT',\n",
       " 'AGAGG',\n",
       " 'TC',\n",
       " 'GGGG',\n",
       " 'TCG',\n",
       " 'TGG',\n",
       " 'TGGGG',\n",
       " 'GG',\n",
       " 'AG',\n",
       " 'A']"
      ]
     },
     "execution_count": 7,
     "metadata": {},
     "output_type": "execute_result"
    }
   ],
   "source": [
    "sp.EncodeAsPieces(_str)"
   ]
  },
  {
   "cell_type": "code",
   "execution_count": 74,
   "metadata": {},
   "outputs": [
    {
     "data": {
      "text/plain": [
       "True"
      ]
     },
     "execution_count": 74,
     "metadata": {},
     "output_type": "execute_result"
    }
   ],
   "source": [
    "sp = spm.SentencePieceProcessor()\n",
    "sp.Load(\"models/BPE/unigram.model\")"
   ]
  },
  {
   "cell_type": "code",
   "execution_count": 75,
   "metadata": {},
   "outputs": [
    {
     "data": {
      "text/plain": [
       "500"
      ]
     },
     "execution_count": 75,
     "metadata": {},
     "output_type": "execute_result"
    }
   ],
   "source": [
    "sp.GetPieceSize()"
   ]
  },
  {
   "cell_type": "code",
   "execution_count": 77,
   "metadata": {},
   "outputs": [
    {
     "data": {
      "text/plain": [
       "['▁',\n",
       " 'CTAC',\n",
       " 'CACC',\n",
       " 'CTCC',\n",
       " 'TCCTC',\n",
       " 'GCA',\n",
       " 'TGCCA',\n",
       " 'CCTCC',\n",
       " 'ATTA',\n",
       " 'GAGG',\n",
       " 'TCGG',\n",
       " 'GGTC',\n",
       " 'GTGGTG',\n",
       " 'GGG',\n",
       " 'GGAGA']"
      ]
     },
     "execution_count": 77,
     "metadata": {},
     "output_type": "execute_result"
    }
   ],
   "source": [
    "sp.EncodeAsPieces(_str)"
   ]
  },
  {
   "cell_type": "code",
   "execution_count": 103,
   "metadata": {},
   "outputs": [
    {
     "data": {
      "text/plain": [
       "[499, 100, 77, 71, 252, 65, 247, 275, 277, 64, 326, 363, 424, 23, 361]"
      ]
     },
     "execution_count": 103,
     "metadata": {},
     "output_type": "execute_result"
    }
   ],
   "source": [
    "sp.EncodeAsIds(_str)"
   ]
  },
  {
   "cell_type": "code",
   "execution_count": 100,
   "metadata": {},
   "outputs": [
    {
     "data": {
      "text/plain": [
       "'<unk>'"
      ]
     },
     "execution_count": 100,
     "metadata": {},
     "output_type": "execute_result"
    }
   ],
   "source": [
    "sp.IdToPiece(0)"
   ]
  },
  {
   "cell_type": "code",
   "execution_count": 102,
   "metadata": {},
   "outputs": [
    {
     "name": "stdout",
     "output_type": "stream",
     "text": [
      "[499, 7, 30, 5, 69, 29, 30, 7, 7, 37, 30, 43, 83, 7, 7, 11, 7, 37, 33, 5, 9, 5, 105, 43, 23, 17, 9, 30, 9, 8, 9, 9, 20, 14, 9, 5] 36\n",
      "[499, 118, 7, 7, 11, 7, 28, 7, 30, 7, 28, 12, 16, 12, 7, 11, 28, 7, 33, 125, 9, 115, 9, 363, 8, 9, 30, 20, 9, 23, 5, 9, 5] 33\n",
      "[499, 7, 30, 5, 7, 7, 11, 7, 71, 30, 7, 7, 30, 7, 12, 5, 30, 12, 31, 7, 37, 16, 30, 5, 9, 5, 9, 9, 30, 7, 9, 20, 9, 30, 7, 8, 45, 9, 20, 9, 9, 9, 3, 5] 44\n",
      "[499, 7, 19, 31, 7, 28, 71, 30, 7, 9, 56, 12, 7, 5, 7, 28, 56, 38, 14, 9, 9, 115, 9, 105, 183, 9, 8, 20, 23, 5, 9, 5] 32\n",
      "[499, 7, 38, 7, 77, 7, 30, 7, 7, 30, 7, 280, 7, 16, 9, 7, 31, 7, 30, 69, 25, 5, 9, 5, 20, 17, 9, 9, 363, 45, 9, 45, 20, 20, 9, 14, 14] 37\n"
     ]
    }
   ],
   "source": [
    "for x in range(5):\n",
    "    res = sp.SampleEncodeAsIds(_str, -1, 0.01)\n",
    "    print(res, len(res))"
   ]
  },
  {
   "cell_type": "code",
   "execution_count": 112,
   "metadata": {},
   "outputs": [
    {
     "name": "stdout",
     "output_type": "stream",
     "text": [
      "['▁', 'C', 'T', 'A', 'CCA', 'CCC', 'TCC', 'T', 'CCTC', 'GC', 'A', 'T', 'GCC', 'ACC', 'TC', 'C', 'A', 'TTAG', 'A', 'GG', 'T', 'CG', 'GG', 'G', 'T', 'CGTG', 'GTGG', 'GG', 'G', 'G', 'A', 'G', 'A'] 33\n",
      "['▁', 'CTA', 'C', 'C', 'AC', 'C', 'C', 'TCC', 'T', 'CCT', 'CGC', 'A', 'T', 'GC', 'CAC', 'CTC', 'C', 'A', 'T', 'T', 'AGAG', 'GT', 'CG', 'G', 'G', 'GT', 'CG', 'T', 'GG', 'T', 'G', 'GG', 'G', 'GGAGA'] 34\n",
      "['▁', 'C', 'T', 'AC', 'C', 'AC', 'C', 'CTCC', 'TC', 'C', 'TC', 'G', 'C', 'A', 'TGC', 'C', 'ACCT', 'CCA', 'T', 'T', 'A', 'G', 'AG', 'GTC', 'GGG', 'G', 'T', 'CG', 'TGG', 'T', 'G', 'G', 'GG', 'GG', 'A', 'GA'] 36\n",
      "['▁', 'C', 'T', 'A', 'C', 'CACC', 'CTCC', 'T', 'CCT', 'C', 'G', 'CAT', 'G', 'CCA', 'CCT', 'CCA', 'T', 'T', 'AG', 'A', 'G', 'GT', 'CG', 'GGG', 'TC', 'GTG', 'GTG', 'GG', 'GGG', 'AG', 'A'] 31\n",
      "['▁', 'C', 'T', 'A', 'CCAC', 'C', 'C', 'TC', 'C', 'T', 'C', 'C', 'T', 'CG', 'C', 'AT', 'GC', 'C', 'ACC', 'T', 'C', 'C', 'AT', 'T', 'A', 'GAGG', 'T', 'C', 'G', 'G', 'G', 'G', 'TC', 'GT', 'GGT', 'G', 'GG', 'GGGA', 'GA'] 39\n"
     ]
    }
   ],
   "source": [
    "for x in range(5):\n",
    "    res = sp.SampleEncodeAsPieces(_str, -1, 0.01)\n",
    "    print(res, len(res))"
   ]
  },
  {
   "cell_type": "code",
   "execution_count": null,
   "metadata": {
    "collapsed": true
   },
   "outputs": [],
   "source": []
  }
 ],
 "metadata": {
  "kernelspec": {
   "display_name": "Python 3.6.3 (GPUAI)",
   "language": "python",
   "name": "python36_gpuai"
  },
  "language_info": {
   "codemirror_mode": {
    "name": "ipython",
    "version": 3
   },
   "file_extension": ".py",
   "mimetype": "text/x-python",
   "name": "python",
   "nbconvert_exporter": "python",
   "pygments_lexer": "ipython3",
   "version": "3.6.3"
  }
 },
 "nbformat": 4,
 "nbformat_minor": 2
}
