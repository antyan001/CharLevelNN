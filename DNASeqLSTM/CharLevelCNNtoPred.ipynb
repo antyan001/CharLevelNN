{
 "cells": [
  {
   "cell_type": "code",
   "execution_count": 1,
   "metadata": {
    "collapsed": true
   },
   "outputs": [],
   "source": [
    "%load_ext autoreload\n",
    "%autoreload 2"
   ]
  },
  {
   "cell_type": "code",
   "execution_count": 2,
   "metadata": {
    "collapsed": true
   },
   "outputs": [],
   "source": [
    "import warnings\n",
    "warnings.filterwarnings('ignore')"
   ]
  },
  {
   "cell_type": "code",
   "execution_count": 3,
   "metadata": {
    "collapsed": true
   },
   "outputs": [],
   "source": [
    "import sys\n",
    "import os\n",
    "curruser = os.environ.get('USER')\n",
    "sys.path.insert(0, '/home/{}/python36-libs/lib/python3.6/site-packages/'.format(curruser))\n",
    "sys.path.insert(0, '/home/{}/notebooks/support_library/pretty-print-confusion-matrix'.format(curruser)) "
   ]
  },
  {
   "cell_type": "code",
   "execution_count": 28,
   "metadata": {
    "scrolled": true
   },
   "outputs": [],
   "source": [
    "import argparse\n",
    "import torch\n",
    "import pandas as pd\n",
    "import numpy as np\n",
    "from pathlib import Path\n",
    "import os\n",
    "from src import utils\n",
    "import torch.nn.functional as F\n",
    "from torch.utils.data import DataLoader\n",
    "from sklearn.metrics import confusion_matrix\n",
    "from confusion_matrix_pretty_print import pretty_plot_confusion_matrix, \\\n",
    "                                          plot_confusion_matrix_from_data, print_confusion_matrix\n",
    "import pandas as pd\n",
    "import matplotlib.pyplot as plt\n",
    "import seaborn as sns\n",
    "import glob\n",
    "from tqdm import tqdm\n",
    "\n",
    "%matplotlib inline"
   ]
  },
  {
   "cell_type": "code",
   "execution_count": 5,
   "metadata": {},
   "outputs": [
    {
     "data": {
      "text/plain": [
       "'1.2.0'"
      ]
     },
     "execution_count": 5,
     "metadata": {},
     "output_type": "execute_result"
    }
   ],
   "source": [
    "torch.__version__"
   ]
  },
  {
   "cell_type": "code",
   "execution_count": 8,
   "metadata": {
    "collapsed": true
   },
   "outputs": [],
   "source": [
    "use_cuda = torch.cuda.is_available()\n",
    "\n",
    "def predict(args):\n",
    "    model = torch.load(args.model)\n",
    "    processed_input = utils.preprocess_input(args)\n",
    "    processed_input = torch.tensor(processed_input)\n",
    "#     processed_input = processed_input.unsqueeze(0)\n",
    "    if use_cuda:\n",
    "        processed_input = processed_input.to('cuda')\n",
    "        model = model.to('cuda')\n",
    "    prediction = model(processed_input)\n",
    "    probabilities = F.softmax(prediction, dim=1)\n",
    "    proba = probabilities.cpu().detach().numpy()\n",
    "    pred_cls  = np.argmax(proba,axis=-1)\n",
    "    return pred_cls"
   ]
  },
  {
   "cell_type": "markdown",
   "metadata": {},
   "source": [
    "### Load OOB dataframe"
   ]
  },
  {
   "cell_type": "code",
   "execution_count": 6,
   "metadata": {
    "collapsed": true,
    "scrolled": true
   },
   "outputs": [],
   "source": [
    "csvpath = Path.joinpath(Path(os.getcwd()),'data/dnaseg/csv','DnaSeg4ValwLabels.csv')\n",
    "df = pd.read_csv(csvpath, encoding='utf8',sep=';')"
   ]
  },
  {
   "cell_type": "code",
   "execution_count": 7,
   "metadata": {
    "scrolled": true
   },
   "outputs": [
    {
     "data": {
      "text/html": [
       "<div>\n",
       "<style scoped>\n",
       "    .dataframe tbody tr th:only-of-type {\n",
       "        vertical-align: middle;\n",
       "    }\n",
       "\n",
       "    .dataframe tbody tr th {\n",
       "        vertical-align: top;\n",
       "    }\n",
       "\n",
       "    .dataframe thead th {\n",
       "        text-align: right;\n",
       "    }\n",
       "</style>\n",
       "<table border=\"1\" class=\"dataframe\">\n",
       "  <thead>\n",
       "    <tr style=\"text-align: right;\">\n",
       "      <th></th>\n",
       "      <th>seq</th>\n",
       "      <th>label</th>\n",
       "    </tr>\n",
       "  </thead>\n",
       "  <tbody>\n",
       "    <tr>\n",
       "      <th>0</th>\n",
       "      <td>AACCTTGGTTAACTTACAGGTTGCTTATAAGGTGATCCTGAAGGTG...</td>\n",
       "      <td>3</td>\n",
       "    </tr>\n",
       "    <tr>\n",
       "      <th>1</th>\n",
       "      <td>CTCACGAAGACATCATTGGTATCAGGTCTCAAACCAAGGTTCTTTG...</td>\n",
       "      <td>0</td>\n",
       "    </tr>\n",
       "    <tr>\n",
       "      <th>2</th>\n",
       "      <td>CACTCCCCCACTGGGTGGTTGGCACCCAGCACCCCGTGGTGATCAT...</td>\n",
       "      <td>0</td>\n",
       "    </tr>\n",
       "    <tr>\n",
       "      <th>3</th>\n",
       "      <td>GAGACATGTCAAACCGCCCTGTCTGCCGACTTTCATGATGAAGGGC...</td>\n",
       "      <td>0</td>\n",
       "    </tr>\n",
       "    <tr>\n",
       "      <th>4</th>\n",
       "      <td>CACTATCATGAAAGGACTCACACTGGAGAGAACCCTATGAATGTAA...</td>\n",
       "      <td>0</td>\n",
       "    </tr>\n",
       "  </tbody>\n",
       "</table>\n",
       "</div>"
      ],
      "text/plain": [
       "                                                 seq  label\n",
       "0  AACCTTGGTTAACTTACAGGTTGCTTATAAGGTGATCCTGAAGGTG...      3\n",
       "1  CTCACGAAGACATCATTGGTATCAGGTCTCAAACCAAGGTTCTTTG...      0\n",
       "2  CACTCCCCCACTGGGTGGTTGGCACCCAGCACCCCGTGGTGATCAT...      0\n",
       "3  GAGACATGTCAAACCGCCCTGTCTGCCGACTTTCATGATGAAGGGC...      0\n",
       "4  CACTATCATGAAAGGACTCACACTGGAGAGAACCCTATGAATGTAA...      0"
      ]
     },
     "execution_count": 7,
     "metadata": {},
     "output_type": "execute_result"
    }
   ],
   "source": [
    "df.head()"
   ]
  },
  {
   "cell_type": "code",
   "execution_count": 9,
   "metadata": {
    "collapsed": true
   },
   "outputs": [],
   "source": [
    "# indx = 3000\n",
    "newcorpus=df.seq[:].tolist()\n",
    "label=df.label[:].tolist()"
   ]
  },
  {
   "cell_type": "code",
   "execution_count": 10,
   "metadata": {},
   "outputs": [
    {
     "data": {
      "text/plain": [
       "327457"
      ]
     },
     "execution_count": 10,
     "metadata": {},
     "output_type": "execute_result"
    }
   ],
   "source": [
    "len(newcorpus)"
   ]
  },
  {
   "cell_type": "markdown",
   "metadata": {},
   "source": [
    "### Load pretrained torch model with the best accuracy"
   ]
  },
  {
   "cell_type": "code",
   "execution_count": 11,
   "metadata": {
    "collapsed": true
   },
   "outputs": [],
   "source": [
    "model_files = glob.glob(os.path.join(os.getcwd(),'models','*.pth'))"
   ]
  },
  {
   "cell_type": "code",
   "execution_count": 12,
   "metadata": {},
   "outputs": [
    {
     "data": {
      "text/plain": [
       "'/home/ektov1-av_ca-sbrf-ru/notebooks/DNASegLSTM/models/char_cnn_epoch_6_lr_0.0025_loss_1.2609_acc_0.404.pth'"
      ]
     },
     "execution_count": 12,
     "metadata": {},
     "output_type": "execute_result"
    }
   ],
   "source": [
    "model_files[-1]"
   ]
  },
  {
   "cell_type": "markdown",
   "metadata": {},
   "source": [
    "### Parse arguments for prediction process"
   ]
  },
  {
   "cell_type": "code",
   "execution_count": 13,
   "metadata": {
    "collapsed": true
   },
   "outputs": [],
   "source": [
    "if __name__ == \"__main__\":\n",
    "    parser = argparse.ArgumentParser(\n",
    "        'Testing a pretrained Character Based CNN for text classification')\n",
    "    parser.add_argument('--model', type=str, default=model_files[-1], \n",
    "                                   help='path for pre-trained model')\n",
    "\n",
    "    parser.add_argument('--text', nargs=\"+\",\n",
    "                        default=newcorpus, help='corpora list')\n",
    "    parser.add_argument('--steps', nargs=\"+\", default=None)\n",
    "    parser.add_argument('--batch_size', type=int, default=1000)\n",
    "\n",
    "    # arguments needed for the predicition\n",
    "    parser.add_argument('--alphabet', type=str,\n",
    "                        default=\"\"\"ATCG\"\"\")\n",
    "    parser.add_argument('--number_of_characters', type=int, default=4)\n",
    "    parser.add_argument('--extra_characters', type=str, default=[])\n",
    "    parser.add_argument('--max_length', type=int, default=600)"
   ]
  },
  {
   "cell_type": "code",
   "execution_count": 14,
   "metadata": {
    "collapsed": true
   },
   "outputs": [],
   "source": [
    "def is_interactive():\n",
    "    return not hasattr(sys.modules['__main__'], '__file__')\n",
    "\n",
    "# work-around for Jupyter notebook and IPython console\n",
    "argv = [] if is_interactive() else sys.argv[1:]\n",
    "args = parser.parse_args(argv)"
   ]
  },
  {
   "cell_type": "code",
   "execution_count": 15,
   "metadata": {
    "collapsed": true
   },
   "outputs": [],
   "source": [
    "torch.nn.Module.dump_patches = True"
   ]
  },
  {
   "cell_type": "code",
   "execution_count": 16,
   "metadata": {
    "collapsed": true,
    "scrolled": false
   },
   "outputs": [],
   "source": [
    "model = torch.load(args.model)"
   ]
  },
  {
   "cell_type": "markdown",
   "metadata": {},
   "source": [
    "## Make a Prediction over batches"
   ]
  },
  {
   "cell_type": "code",
   "execution_count": 17,
   "metadata": {
    "scrolled": true
   },
   "outputs": [
    {
     "name": "stderr",
     "output_type": "stream",
     "text": [
      "100%|██████████| 328/328 [07:47<00:00,  1.42s/it]\n"
     ]
    }
   ],
   "source": [
    "batch_size = args.batch_size\n",
    "# corpora_text = args.text\n",
    "\n",
    "batch_params = {\"batch_size\": batch_size,\n",
    "                \"shuffle\": False,\n",
    "                \"num_workers\": 4}\n",
    "\n",
    "batch_generator = DataLoader(newcorpus, **batch_params)\n",
    "prediction_lst = []\n",
    "\n",
    "for iter, batch in tqdm(enumerate(batch_generator), total=len(batch_generator)):\n",
    "        args.text = batch\n",
    "        prediction = predict(args)\n",
    "        prediction_lst.extend(prediction)"
   ]
  },
  {
   "cell_type": "code",
   "execution_count": 18,
   "metadata": {
    "collapsed": true,
    "scrolled": true
   },
   "outputs": [],
   "source": [
    "# prediction = predict(args)\n",
    "# print('input text: {}'.format(args.text))\n",
    "# print('-'*40)\n",
    "# print('true_class : {}'.format(label))\n",
    "# print('prediction : {}'.format(prediction))"
   ]
  },
  {
   "cell_type": "code",
   "execution_count": 30,
   "metadata": {
    "scrolled": false
   },
   "outputs": [
    {
     "data": {
      "image/png": "[encoded data removed]",
      "text/plain": [
       "<Figure size 648x648 with 1 Axes>"
      ]
     },
     "metadata": {},
     "output_type": "display_data"
    }
   ],
   "source": [
    "plot_confusion_matrix_from_data(label,prediction_lst,columns=['A','C','G','T'])"
   ]
  },
  {
   "cell_type": "code",
   "execution_count": null,
   "metadata": {
    "collapsed": true
   },
   "outputs": [],
   "source": []
  }
 ],
 "metadata": {
  "kernelspec": {
   "display_name": "Python 3.6.3 (GPUAI)",
   "language": "python",
   "name": "python36_gpuai"
  },
  "language_info": {
   "codemirror_mode": {
    "name": "ipython",
    "version": 3
   },
   "file_extension": ".py",
   "mimetype": "text/x-python",
   "name": "python",
   "nbconvert_exporter": "python",
   "pygments_lexer": "ipython3",
   "version": "3.6.3"
  }
 },
 "nbformat": 4,
 "nbformat_minor": 2
}
