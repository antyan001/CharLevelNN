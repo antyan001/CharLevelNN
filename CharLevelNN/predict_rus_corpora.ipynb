{
 "cells": [
  {
   "cell_type": "code",
   "execution_count": 5,
   "metadata": {},
   "outputs": [],
   "source": [
    "%load_ext autoreload\n",
    "%autoreload 2"
   ]
  },
  {
   "cell_type": "code",
   "execution_count": 2,
   "metadata": {
    "collapsed": true
   },
   "outputs": [],
   "source": [
    "import warnings\n",
    "warnings.filterwarnings('ignore')"
   ]
  },
  {
   "cell_type": "code",
   "execution_count": 4,
   "metadata": {
    "collapsed": true
   },
   "outputs": [],
   "source": [
    "import sys\n",
    "sys.path.insert(0, '/home/ektov-av/python35-libs/lib/python3.5/site-packages/') \n",
    "sys.path.insert(1,'../pyutils/pretty-print-confusion-matrix/')"
   ]
  },
  {
   "cell_type": "code",
   "execution_count": 6,
   "metadata": {
    "scrolled": true
   },
   "outputs": [],
   "source": [
    "import argparse\n",
    "import torch\n",
    "import pandas as pd\n",
    "import numpy as np\n",
    "from pathlib import Path\n",
    "import os\n",
    "from src import utils\n",
    "import torch.nn.functional as F\n",
    "from torch.utils.data import DataLoader\n",
    "from sklearn.metrics import confusion_matrix\n",
    "from confusion_matrix_pretty_print import pretty_plot_confusion_matrix, plot_confusion_matrix_from_data\n",
    "import pandas as pd\n",
    "import matplotlib.pyplot as plt\n",
    "import seaborn as sns\n",
    "import glob\n",
    "from tqdm import tqdm\n",
    "\n",
    "%matplotlib inline"
   ]
  },
  {
   "cell_type": "code",
   "execution_count": 18,
   "metadata": {},
   "outputs": [
    {
     "data": {
      "text/plain": [
       "'1.0.0'"
      ]
     },
     "execution_count": 18,
     "metadata": {},
     "output_type": "execute_result"
    }
   ],
   "source": [
    "torch.__version__"
   ]
  },
  {
   "cell_type": "code",
   "execution_count": 7,
   "metadata": {
    "collapsed": true,
    "scrolled": true
   },
   "outputs": [],
   "source": [
    "path2csv = Path.joinpath(Path(os.getcwd()), 'data','topics_val.csv')\n",
    "df = pd.read_csv(path2csv, encoding='utf8', na_filter=False)\n",
    "df.fillna('', inplace=True)"
   ]
  },
  {
   "cell_type": "code",
   "execution_count": null,
   "metadata": {
    "scrolled": true
   },
   "outputs": [],
   "source": [
    "df[df.Sentiment==1]"
   ]
  },
  {
   "cell_type": "code",
   "execution_count": 8,
   "metadata": {
    "collapsed": true
   },
   "outputs": [],
   "source": [
    "use_cuda = torch.cuda.is_available()\n",
    "\n",
    "def predict(args):\n",
    "    model = torch.load(args.model)\n",
    "    processed_input = utils.preprocess_input(args)\n",
    "    processed_input = torch.tensor(processed_input)\n",
    "#     processed_input = processed_input.unsqueeze(0)\n",
    "    if use_cuda:\n",
    "        processed_input = processed_input.to('cuda')\n",
    "        model = model.to('cuda')\n",
    "    prediction = model(processed_input)\n",
    "    probabilities = F.softmax(prediction, dim=1)\n",
    "    proba = probabilities.cpu().detach().numpy()\n",
    "    pred_cls  = np.argmax(proba,axis=-1)\n",
    "    return pred_cls"
   ]
  },
  {
   "cell_type": "code",
   "execution_count": 9,
   "metadata": {
    "collapsed": true
   },
   "outputs": [],
   "source": [
    "# indx = 3000\n",
    "newcorpus=df.SentimentText[:].tolist()\n",
    "label=df.Sentiment[:].tolist()"
   ]
  },
  {
   "cell_type": "code",
   "execution_count": 10,
   "metadata": {},
   "outputs": [
    {
     "data": {
      "text/plain": [
       "8080"
      ]
     },
     "execution_count": 10,
     "metadata": {},
     "output_type": "execute_result"
    }
   ],
   "source": [
    "len(newcorpus)"
   ]
  },
  {
   "cell_type": "code",
   "execution_count": 11,
   "metadata": {
    "collapsed": true
   },
   "outputs": [],
   "source": [
    "model_files = glob.glob(os.path.join(os.getcwd(),'models','*.pth'))"
   ]
  },
  {
   "cell_type": "code",
   "execution_count": 12,
   "metadata": {},
   "outputs": [
    {
     "data": {
      "text/plain": [
       "'/home/ektov-av/notebooks/character_based_cnn/models/char_cnn_epoch_6_lr_0.0025_loss_0.4051_acc_0.8198.pth'"
      ]
     },
     "execution_count": 12,
     "metadata": {},
     "output_type": "execute_result"
    }
   ],
   "source": [
    "model_files[-1]"
   ]
  },
  {
   "cell_type": "code",
   "execution_count": 13,
   "metadata": {
    "collapsed": true
   },
   "outputs": [],
   "source": [
    "if __name__ == \"__main__\":\n",
    "    parser = argparse.ArgumentParser(\n",
    "        'Testing a pretrained Character Based CNN for text classification')\n",
    "    parser.add_argument('--model', type=str, default=model_files[-1], \n",
    "                                   help='path for pre-trained model')\n",
    "\n",
    "    parser.add_argument('--text', nargs=\"+\",\n",
    "                        default=newcorpus, help='corpora list')\n",
    "    parser.add_argument('--steps', nargs=\"+\", default=['remove_html','lower'])\n",
    "    parser.add_argument('--batch_size', type=int, default=1000)\n",
    "\n",
    "    # arguments needed for the predicition\n",
    "    parser.add_argument('--alphabet', type=str,\n",
    "                        default=\"\"\"абвгдеёжзиклмнопрстюуфхчшщэюяьъabcdefghijklmnopqrstuvwxyz0123456789\"\"\")\n",
    "    parser.add_argument('--number_of_characters', type=int, default=67)\n",
    "    parser.add_argument('--extra_characters', type=str, default='!\"#$%&\\'()*+,-./:;<=>?@[\\\\]^_`{|}~')\n",
    "    parser.add_argument('--max_length', type=int, default=600)"
   ]
  },
  {
   "cell_type": "code",
   "execution_count": 14,
   "metadata": {
    "collapsed": true
   },
   "outputs": [],
   "source": [
    "def is_interactive():\n",
    "    return not hasattr(sys.modules['__main__'], '__file__')\n",
    "\n",
    "# work-around for Jupyter notebook and IPython console\n",
    "argv = [] if is_interactive() else sys.argv[1:]\n",
    "args = parser.parse_args(argv)"
   ]
  },
  {
   "cell_type": "code",
   "execution_count": 15,
   "metadata": {
    "collapsed": true
   },
   "outputs": [],
   "source": [
    "torch.nn.Module.dump_patches = True"
   ]
  },
  {
   "cell_type": "code",
   "execution_count": 16,
   "metadata": {
    "scrolled": false
   },
   "outputs": [],
   "source": [
    "model = torch.load(args.model)"
   ]
  },
  {
   "cell_type": "markdown",
   "metadata": {},
   "source": [
    "## Prediction"
   ]
  },
  {
   "cell_type": "code",
   "execution_count": null,
   "metadata": {
    "scrolled": false
   },
   "outputs": [],
   "source": [
    "batch_size = args.batch_size\n",
    "corpora_text = args.text\n",
    "\n",
    "batch_params = {\"batch_size\": batch_size,\n",
    "                \"shuffle\": False,\n",
    "                \"num_workers\": 4}\n",
    "\n",
    "batch_generator = DataLoader(corpora_text, **batch_params)\n",
    "prediction_lst = []\n",
    "\n",
    "for iter, batch in tqdm(enumerate(batch_generator), total=len(batch_generator)):\n",
    "        args.text = batch\n",
    "        prediction = predict(args)\n",
    "        prediction_lst.extend(prediction)"
   ]
  },
  {
   "cell_type": "code",
   "execution_count": null,
   "metadata": {
    "collapsed": true,
    "scrolled": true
   },
   "outputs": [],
   "source": [
    "# prediction = predict(args)\n",
    "# print('input text: {}'.format(args.text))\n",
    "# print('-'*40)\n",
    "# print('true_class : {}'.format(label))\n",
    "# print('prediction : {}'.format(prediction))"
   ]
  },
  {
   "cell_type": "code",
   "execution_count": null,
   "metadata": {
    "collapsed": true,
    "scrolled": true
   },
   "outputs": [],
   "source": [
    "# prediction = predict(args)"
   ]
  },
  {
   "cell_type": "code",
   "execution_count": null,
   "metadata": {},
   "outputs": [],
   "source": [
    "cm = confusion_matrix(label,prediction)\n",
    "fig = print_confusion_matrix(cm,class_names=[0,1])"
   ]
  },
  {
   "cell_type": "code",
   "execution_count": null,
   "metadata": {},
   "outputs": [],
   "source": [
    "plot_confusion_matrix_from_data(label,prediction,columns=[0,1])"
   ]
  },
  {
   "cell_type": "code",
   "execution_count": null,
   "metadata": {
    "collapsed": true
   },
   "outputs": [],
   "source": []
  }
 ],
 "metadata": {
  "kernelspec": {
   "display_name": "Python 3.6.3 (GPUAI)",
   "language": "python",
   "name": "python36_gpuai"
  },
  "language_info": {
   "codemirror_mode": {
    "name": "ipython",
    "version": 3
   },
   "file_extension": ".py",
   "mimetype": "text/x-python",
   "name": "python",
   "nbconvert_exporter": "python",
   "pygments_lexer": "ipython3",
   "version": "3.6.3"
  }
 },
 "nbformat": 4,
 "nbformat_minor": 2
}
