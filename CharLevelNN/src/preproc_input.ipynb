{
 "cells": [
  {
   "cell_type": "code",
   "execution_count": null,
   "metadata": {
    "scrolled": true
   },
   "outputs": [],
   "source": [
    "import os\n",
    "import sys\n",
    "\n",
    "curruser = os.environ.get('USER')\n",
    "\n",
    "\n",
    "\n",
    "# sys.path.insert(0, './../src/')\n",
    "sys.path.insert(0, '/home/{}/notebooks/support_library/'.format(curruser)) \n",
    "sys.path.insert(0, '/home/{}/python35-libs/lib/python3.5/site-packages/'.format(curruser))\n",
    "sys.path.insert(0, '/home/{}/notebooks/labdata/lib/'.format(curruser))\n",
    "\n",
    "from pathlib import Path\n",
    "import re\n",
    "import pandas as pd\n",
    "import numpy as np\n",
    "from tqdm import tqdm_notebook\n",
    "import utils\n",
    "from Bio import SeqIO\n",
    "from sklearn.preprocessing import LabelEncoder"
   ]
  },
  {
   "cell_type": "code",
   "execution_count": null,
   "metadata": {
    "collapsed": true
   },
   "outputs": [],
   "source": [
    "dnaSegPath = ('./../data/dnaseg/mart_export.txt')"
   ]
  },
  {
   "cell_type": "code",
   "execution_count": null,
   "metadata": {
    "collapsed": true
   },
   "outputs": [],
   "source": [
    "def streamFastaIO (path):\n",
    "    patt = re.compile(r'^[^N][ATCG]+')\n",
    "    for sequence in SeqIO.parse(path,\"fasta\"):\n",
    "        outSeqStr = str(sequence.seq)\n",
    "        if len(patt.findall(outSeqStr))!=0:\n",
    "            tup = (outSeqStr, len(sequence))\n",
    "        else:\n",
    "            tup = ('', -1)\n",
    "        yield tup"
   ]
  },
  {
   "cell_type": "code",
   "execution_count": null,
   "metadata": {
    "collapsed": true
   },
   "outputs": [],
   "source": [
    "lenc = LabelEncoder()"
   ]
  },
  {
   "cell_type": "code",
   "execution_count": null,
   "metadata": {},
   "outputs": [],
   "source": [
    "lenc.fit_transform(np.array(['A','T','C','G']))"
   ]
  },
  {
   "cell_type": "code",
   "execution_count": null,
   "metadata": {},
   "outputs": [],
   "source": [
    "def getChunkesFromSeqToRight(seq, right_len=30, minlen = 5, lenc=None):\n",
    "    i=minlen\n",
    "    chunkstuple = []\n",
    "    while True:\n",
    "        if len(seq)-i >= right_len:\n",
    "            left_chunk = seq[:i]\n",
    "            if len(left_chunk) > right_len: \n",
    "                left_chunk = left_chunk[-right_len:] \n",
    "            chunkstuple += [(' '.join([left_chunk, seq[i+1:i+right_len+1]]), lenc.transform([seq[i]])[0])]\n",
    "            i+=1\n",
    "        else:\n",
    "            chunkstuple += [(' '.join([left_chunk, seq[i+1:len(seq)+1]]), lenc.transform([seq[i]])[0])]\n",
    "            break\n",
    "    return chunkstuple"
   ]
  },
  {
   "cell_type": "code",
   "execution_count": null,
   "metadata": {
    "collapsed": true
   },
   "outputs": [],
   "source": [
    "def getChunkesFromSeqToLeft(seq, left_len=30, minlen = 5, lenc = None):\n",
    "    i = minlen\n",
    "    chunkstuple = []\n",
    "    while True:\n",
    "        if len(seq)-i >= left_len:\n",
    "            right_chunk = seq[-i:]\n",
    "            if len(right_chunk) > left_len: \n",
    "                right_chunk = right_chunk[:left_len] \n",
    "            chunkstuple += [(' '.join([seq[-(i+left_len+1):-(i+1):], right_chunk]), lenc.transform([seq[-(i+1)]])[0])]\n",
    "            i+=1\n",
    "        else:\n",
    "            chunkstuple += [(' '.join([seq[-len(seq):-(i+1):], right_chunk]), lenc.transform([seq[-(i+1)]])[0])]\n",
    "            break\n",
    "    return chunkstuple"
   ]
  },
  {
   "cell_type": "code",
   "execution_count": null,
   "metadata": {},
   "outputs": [],
   "source": [
    "seqArr = []\n",
    "for seq, _len in tqdm_notebook(streamFastaIO(dnaSegPath)):\n",
    "     seqArr+=[(seq, _len)]"
   ]
  },
  {
   "cell_type": "code",
   "execution_count": null,
   "metadata": {},
   "outputs": [],
   "source": [
    "import csv\n",
    "csvpath = Path.joinpath(Path(os.getcwd()),'../data/dnaseg/csv','DnaSeg4Train.csv')"
   ]
  },
  {
   "cell_type": "code",
   "execution_count": null,
   "metadata": {
    "scrolled": true
   },
   "outputs": [],
   "source": [
    "finalarr = []\n",
    "headers = ['seq','label']\n",
    "for item in tqdm_notebook(seqArr):\n",
    "    if item[1] != -1:\n",
    "        chunkesRight = getChunkesFromSeqToRight(item[0], lenc = lenc)\n",
    "        chunkesLeft  = getChunkesFromSeqToLeft(item[0],  lenc = lenc)\n",
    "        res = chunkesRight+chunkesLeft\n",
    "        finalarr+=res\n",
    "\n",
    "        with open(str(csvpath),'a', encoding='utf8') as outcsv: \n",
    "            writer = csv.writer(outcsv,delimiter=';', quotechar='\"', lineterminator='\\n')\n",
    "            file_is_empty = os.stat(str(csvpath)).st_size ==0\n",
    "            if file_is_empty:\n",
    "                writer.writerow(headers)\n",
    "            for item in finalarr:\n",
    "                writer.writerow(item)\n",
    "    else:\n",
    "        pass"
   ]
  },
  {
   "cell_type": "code",
   "execution_count": null,
   "metadata": {
    "collapsed": true
   },
   "outputs": [],
   "source": []
  },
  {
   "cell_type": "code",
   "execution_count": null,
   "metadata": {
    "collapsed": true
   },
   "outputs": [],
   "source": []
  }
 ],
 "metadata": {
  "kernelspec": {
   "display_name": "Python 3.5.3 (ZNO0059623792)",
   "language": "python",
   "name": "python35_zno0059623792"
  },
  "language_info": {
   "codemirror_mode": {
    "name": "ipython",
    "version": 3
   },
   "file_extension": ".py",
   "mimetype": "text/x-python",
   "name": "python",
   "nbconvert_exporter": "python",
   "pygments_lexer": "ipython3",
   "version": "3.5.3"
  }
 },
 "nbformat": 4,
 "nbformat_minor": 2
}
